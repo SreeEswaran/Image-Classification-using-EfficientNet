{
 "cells": [
  {
   "cell_type": "markdown",
   "metadata": {},
   "source": [
    "# Predicting with EfficientNet Model for Image Classification\n",
    "This notebook uses the fine-tuned EfficientNet model to make predictions on new images."
   ]
  },
  {
   "cell_type": "code",
   "metadata": {},
   "source": [
    "import torch\n",
    "import torchvision.transforms as transforms\n",
    "from efficientnet_pytorch import EfficientNet\n",
    "from PIL import Image\n",
    "import pandas as pd\n",
    "import os\n",
    "\n",
    "# Data transformations\n",
    "predict_transforms = transforms.Compose([\n",
    "    transforms.Resize(256),\n",
    "    transforms.CenterCrop(224),\n",
    "    transforms.ToTensor(),\n",
    "    transforms.Normalize([0.485, 0.456, 0.406], [0.229, 0.224, 0.225])\n",
    "])\n",
    "\n",
    "# Load the model\n",
    "model = EfficientNet.from_name('efficientnet-b0')\n",
    "model._fc = torch.nn.Linear(model._fc.in_features, 2)  # Adjust this line to match the number of classes\n",
    "model.load_state_dict(torch.load('../models/efficientnet_model.pth'))\n",
    "model.eval()\n",
    "model.to('cuda' if torch.cuda.is_available() else 'cpu')\n",
    "\n",
    "# Function to predict image class\n",
    "def predict_image(image_path, model, transform):\n",
    "    image = Image.open(image_path).convert('RGB')\n",
    "    image = transform(image).unsqueeze(0)\n",
    "    image = image.to('cuda' if torch.cuda.is_available() else 'cpu')\n",
    "    with torch.no_grad():\n",
    "        outputs = model(image)\n",
    "        _, predicted = torch.max(outputs, 1)\n",
    "    return predicted.item()\n",
    "\n",
    "# Path to images for prediction\n",
    "image_dir = '../data/test'\n",
    "image_paths = [os.path.join(image_dir, img) for img in os.listdir(image_dir)]\n",
    "\n",
    "# Predict classes for images\n",
    "predictions = []\n",
    "for image_path in image_paths:\n",
    "    pred = predict_image(image_path, model, predict_transforms)\n",
    "    predictions.append({'image': image_path, 'predicted_class': pred})\n",
    "\n",
    "# Save predictions\n",
    "pred_df = pd.DataFrame(predictions)\n",
    "if not os.path.exists('../results'):\n",
    "    os.makedirs('../results')\n",
    "pred_df.to_csv('../results/predictions.csv', index=False)\n",
    "pred_df.head()"
   ],
   "execution_count": null,
   "outputs": []
  }
 ],
 "metadata": {
  "kernelspec": {
   "display_name": "Python 3",
   "language": "python",
   "name": "python3"
  },
  "language_info": {
   "name": "python",
   "version": "3.8.5"
  }
 },
 "nbformat": 4,
 "nbformat_minor": 4
}
